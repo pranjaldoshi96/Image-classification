{
 "cells": [
  {
   "cell_type": "code",
   "execution_count": 107,
   "id": "82997596",
   "metadata": {},
   "outputs": [],
   "source": [
    "import os\n",
    "\n",
    "import torch\n",
    "import torchvision\n",
    "import torchvision.transforms as transforms\n",
    "import matplotlib.pyplot as plt\n",
    "import numpy as np"
   ]
  },
  {
   "cell_type": "code",
   "execution_count": 108,
   "id": "91349695",
   "metadata": {},
   "outputs": [
    {
     "name": "stdout",
     "output_type": "stream",
     "text": [
      "Files already downloaded and verified\n",
      "Files already downloaded and verified\n"
     ]
    }
   ],
   "source": [
    "transform = transforms.Compose(\n",
    "    [transforms.ToTensor(),\n",
    "     transforms.Normalize((0.5, 0.5, 0.5), (0.5, 0.5, 0.5))])\n",
    "\n",
    "batch_size = 4\n",
    "\n",
    "trainset = torchvision.datasets.CIFAR10(root='./data', train=True,\n",
    "                                        download=True, transform=transform)\n",
    "trainloader = torch.utils.data.DataLoader(trainset, batch_size=batch_size,\n",
    "                                          shuffle=True, num_workers=2)\n",
    "\n",
    "testset = torchvision.datasets.CIFAR10(root='./data', train=False,\n",
    "                                       download=True, transform=transform)\n",
    "testloader = torch.utils.data.DataLoader(testset, batch_size=batch_size,\n",
    "                                         shuffle=False, num_workers=2)"
   ]
  },
  {
   "cell_type": "code",
   "execution_count": 109,
   "id": "c3758756",
   "metadata": {},
   "outputs": [],
   "source": [
    "def imshow(img):\n",
    "    img = img / 2 + 0.5     # unnormalize\n",
    "    npimg = img.numpy()\n",
    "    plt.imshow(np.transpose(npimg, (1, 2, 0)))\n",
    "    plt.show()"
   ]
  },
  {
   "cell_type": "code",
   "execution_count": 110,
   "id": "e315918f",
   "metadata": {},
   "outputs": [
    {
     "name": "stdout",
     "output_type": "stream",
     "text": [
      "(50000, 32, 32, 3)\n",
      "50000\n"
     ]
    }
   ],
   "source": [
    "data = trainset.data\n",
    "label = trainset.targets\n",
    "classes = trainset.classes\n",
    "clases_to_idx = trainset.class_to_idx\n",
    "print(data.shape)\n",
    "print(len(label))"
   ]
  },
  {
   "cell_type": "code",
   "execution_count": 111,
   "id": "9efc6a00",
   "metadata": {},
   "outputs": [],
   "source": [
    "class KNN:\n",
    "    def __init__(self, k):\n",
    "        self._k = k\n",
    "        pass\n",
    "\n",
    "    def train(self, x, Y):\n",
    "        # It only stores data in training phase\n",
    "        self.x = x\n",
    "        self.Y = np.array(Y)\n",
    "\n",
    "    def predict(self, x):\n",
    "        a = self.x - x\n",
    "        diff = np.sum(a, axis=(1,2,3))\n",
    "        smallest_index = np.argpartition(diff, self._k)[:self._k]\n",
    "        return np.bincount(self.Y[smallest_index]).argmax()"
   ]
  },
  {
   "cell_type": "code",
   "execution_count": 112,
   "id": "a1e5ffa7",
   "metadata": {},
   "outputs": [],
   "source": [
    "model = KNN(5)\n",
    "model.train(data, label)"
   ]
  },
  {
   "cell_type": "code",
   "execution_count": 123,
   "id": "bfa2b56d",
   "metadata": {},
   "outputs": [],
   "source": [
    "sample_test = 1000\n",
    "test_data = testset.data[:sample_test]\n",
    "test_label = np.array(testset.targets)[:sample_test]"
   ]
  },
  {
   "cell_type": "code",
   "execution_count": 122,
   "id": "867d1ee7",
   "metadata": {},
   "outputs": [
    {
     "name": "stdout",
     "output_type": "stream",
     "text": [
      "accuracy :  0.25\n"
     ]
    }
   ],
   "source": [
    "correct=0\n",
    "for data,label in zip(test_data,test_label):\n",
    "    prediction = model.predict(data)\n",
    "    if prediction == label:\n",
    "        correct+=1\n",
    "print('accuracy : ',correct/sample_test)"
   ]
  },
  {
   "cell_type": "code",
   "execution_count": 124,
   "id": "e9fd1656",
   "metadata": {},
   "outputs": [
    {
     "name": "stdout",
     "output_type": "stream",
     "text": [
      "accuracy :  0.254\n"
     ]
    }
   ],
   "source": [
    "correct=0\n",
    "for data,label in zip(test_data,test_label):\n",
    "    prediction = model.predict(data)\n",
    "    if prediction == label:\n",
    "        correct+=1\n",
    "print('accuracy : ',correct/sample_test)"
   ]
  }
 ],
 "metadata": {
  "kernelspec": {
   "display_name": "Python 3",
   "language": "python",
   "name": "python3"
  },
  "language_info": {
   "codemirror_mode": {
    "name": "ipython",
    "version": 3
   },
   "file_extension": ".py",
   "mimetype": "text/x-python",
   "name": "python",
   "nbconvert_exporter": "python",
   "pygments_lexer": "ipython3",
   "version": "3.6.9"
  }
 },
 "nbformat": 4,
 "nbformat_minor": 5
}
